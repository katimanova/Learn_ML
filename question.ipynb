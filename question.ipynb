{
 "cells": [
  {
   "attachments": {},
   "cell_type": "markdown",
   "metadata": {},
   "source": [
    "#### Вопросы по предложениям"
   ]
  },
  {
   "cell_type": "code",
   "execution_count": 1,
   "metadata": {},
   "outputs": [],
   "source": [
    "import ru_core_news_lg\n",
    "import spacy as sp\n",
    "import sys\n",
    "\n",
    "from spacy.symbols import ORTH, LEMMA\n",
    "from IPython.display import Image\n",
    "from spacy.tokens.doc import Doc\n",
    "from spacy.vocab import Vocab\n",
    "\n",
    "from spacy import displacy\n",
    "from IPython.display import Image\n",
    "\n",
    "nlp = sp.load('ru_core_news_lg')"
   ]
  },
  {
   "cell_type": "code",
   "execution_count": 19,
   "metadata": {},
   "outputs": [],
   "source": [
    "# Возвращение прямого дополнения (по книжке это dobj, однако в русском spacy есть только obj, iobj)\n",
    "def find_chunk(doc):\n",
    "    chunk = ''\n",
    "    for i, token in enumerate(doc):\n",
    "        if token.dep_ == 'obj':\n",
    "            shift = len([w for w in token.children])\n",
    "            #print([w for w in token.children])\n",
    "            chunk = doc[i-shift:i+1]\n",
    "            break\n",
    "    return chunk"
   ]
  },
  {
   "cell_type": "code",
   "execution_count": 16,
   "metadata": {},
   "outputs": [
    {
     "name": "stdout",
     "output_type": "stream",
     "text": [
      "text            pos_       dep_       tag_       explain   \n",
      "_______________________________________________________\n",
      "Я               PRON       nsubj      PRON       nominal subject\n",
      "снял            VERB       ROOT       VERB       root      \n",
      "эти             DET        det        DET        determiner\n",
      "солнцезащитные  ADJ        amod       ADJ        adjectival modifier\n",
      "очки            NOUN       obj        NOUN       object    \n",
      "и               CCONJ      cc         CCONJ      coordinating conjunction\n",
      "увидел          VERB       conj       VERB       conjunct  \n",
      "яркое           ADJ        amod       ADJ        adjectival modifier\n",
      "солнце          NOUN       obj        NOUN       object    \n"
     ]
    }
   ],
   "source": [
    "doc = nlp(u\"Я снял эти солнцезащитные очки и увидел яркое солнце\")\n",
    "# dep_ == метки зависимости\n",
    "print('{0:15s} {1:10s} {2:10s} {3:10s} {4:10s}'.format('text', 'pos_', 'dep_', 'tag_', 'explain'))\n",
    "print('_'* 55)\n",
    "for token in doc:\n",
    "    print('{0:15s} {1:10s} {2:10s} {3:10s} {4:10s}'.format(token.text, token.pos_, token.dep_, token.tag_, sp.explain(token.dep_)))"
   ]
  },
  {
   "cell_type": "code",
   "execution_count": 20,
   "metadata": {},
   "outputs": [
    {
     "name": "stdout",
     "output_type": "stream",
     "text": [
      "эти солнцезащитные очки\n"
     ]
    }
   ],
   "source": [
    "# Возвращение первого прямого дополнения \n",
    "print(find_chunk(doc))"
   ]
  },
  {
   "cell_type": "code",
   "execution_count": null,
   "metadata": {},
   "outputs": [],
   "source": []
  }
 ],
 "metadata": {
  "kernelspec": {
   "display_name": "Python 3",
   "language": "python",
   "name": "python3"
  },
  "language_info": {
   "codemirror_mode": {
    "name": "ipython",
    "version": 3
   },
   "file_extension": ".py",
   "mimetype": "text/x-python",
   "name": "python",
   "nbconvert_exporter": "python",
   "pygments_lexer": "ipython3",
   "version": "3.10.4"
  },
  "orig_nbformat": 4
 },
 "nbformat": 4,
 "nbformat_minor": 2
}
