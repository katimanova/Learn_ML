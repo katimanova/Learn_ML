{
 "cells": [
  {
   "attachments": {},
   "cell_type": "markdown",
   "metadata": {},
   "source": [
    "#### Использование spacy для английского языка\n",
    "В связи с тем, что методы spacy для русского и английского языка работают не одинаково, было принято решение проводить некоторые опыты параллельно на 2 языках, чтобы находить наилучшее решение для русского."
   ]
  },
  {
   "cell_type": "code",
   "execution_count": 2,
   "metadata": {},
   "outputs": [],
   "source": [
    "import en_core_web_sm\n",
    "import spacy as sp\n",
    "\n",
    "from spacy.symbols import ORTH, LEMMA\n",
    "from IPython.display import Image\n",
    "from spacy.tokens.doc import Doc\n",
    "from spacy.vocab import Vocab\n",
    "\n",
    "from spacy import displacy\n",
    "from IPython.display import Image\n",
    "\n",
    "nlp = sp.load(\"en_core_web_sm\")"
   ]
  },
  {
   "cell_type": "code",
   "execution_count": 6,
   "metadata": {},
   "outputs": [
    {
     "name": "stdout",
     "output_type": "stream",
     "text": [
      "text            pos_       dep_       tag_       explain   \n",
      "_______________________________________________________\n",
      "I               PRON       nsubj      PRP        nominal subject\n",
      "want            VERB       ROOT       VBP        root      \n",
      "a               DET        det        DT         determiner\n",
      "green           ADJ        amod       JJ         adjectival modifier\n",
      "apple           NOUN       dobj       NN         direct object\n"
     ]
    }
   ],
   "source": [
    "doc = nlp(\"I want a green apple\")\n",
    "print('{0:15s} {1:10s} {2:10s} {3:10s} {4:10s}'.format('text', 'pos_', 'dep_', 'tag_', 'explain'))\n",
    "print('_'* 55)\n",
    "for token in doc:\n",
    "    print('{0:15s} {1:10s} {2:10s} {3:10s} {4:10s}'.format(token.text, token.pos_, token.dep_, token.tag_, sp.explain(token.dep_)))"
   ]
  },
  {
   "cell_type": "code",
   "execution_count": null,
   "metadata": {},
   "outputs": [],
   "source": []
  }
 ],
 "metadata": {
  "kernelspec": {
   "display_name": "Python 3",
   "language": "python",
   "name": "python3"
  },
  "language_info": {
   "codemirror_mode": {
    "name": "ipython",
    "version": 3
   },
   "file_extension": ".py",
   "mimetype": "text/x-python",
   "name": "python",
   "nbconvert_exporter": "python",
   "pygments_lexer": "ipython3",
   "version": "3.10.4"
  },
  "orig_nbformat": 4
 },
 "nbformat": 4,
 "nbformat_minor": 2
}
